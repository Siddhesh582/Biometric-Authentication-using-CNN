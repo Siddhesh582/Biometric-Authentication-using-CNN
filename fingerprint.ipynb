{
  "cells": [
    {
      "cell_type": "markdown",
      "metadata": {
        "id": "view-in-github",
        "colab_type": "text"
      },
      "source": [
        "<a href=\"https://colab.research.google.com/github/Siddhesh582/Biometric-Authentication-using-CNN/blob/main/fingerprint.ipynb\" target=\"_parent\"><img src=\"https://colab.research.google.com/assets/colab-badge.svg\" alt=\"Open In Colab\"/></a>"
      ]
    },
    {
      "cell_type": "markdown",
      "metadata": {
        "id": "SmwZxesLo8ht"
      },
      "source": [
        "Importing the dataset"
      ]
    },
    {
      "cell_type": "code",
      "execution_count": null,
      "metadata": {
        "id": "EMEzB1Jv2iyg"
      },
      "outputs": [],
      "source": [
        "from google.colab import drive\n",
        "drive.mount('/content/drive')"
      ]
    },
    {
      "cell_type": "markdown",
      "metadata": {
        "id": "Pv_3lDNfpDTI"
      },
      "source": [
        "Unzipping the file"
      ]
    },
    {
      "cell_type": "code",
      "execution_count": null,
      "metadata": {
        "id": "rSUcms7h5Yo7"
      },
      "outputs": [],
      "source": [
        "!unzip -q \"/content/drive/MyDrive/fingerprint.zip\" -d \"/content\""
      ]
    },
    {
      "cell_type": "markdown",
      "metadata": {
        "id": "qt1sOlWTpH18"
      },
      "source": [
        "Importing libraries"
      ]
    },
    {
      "cell_type": "code",
      "execution_count": null,
      "metadata": {
        "id": "DxkhbaV5zhUO"
      },
      "outputs": [],
      "source": [
        "import tensorflow as tf\n",
        "from tensorflow.keras.models import Sequential\n",
        "from tensorflow.keras.layers import Dense, Conv2D, Flatten, MaxPooling2D, GlobalMaxPooling2D\n",
        "from tensorflow.keras import Input\n",
        "from tensorflow.keras.preprocessing.image import ImageDataGenerator\n",
        "from tensorflow.keras.preprocessing.image import load_img\n",
        "from tensorflow.keras.preprocessing.image import img_to_array\n",
        "import numpy as np\n",
        "from PIL import Image\n",
        "import cv2\n",
        "import matplotlib.pyplot as plt"
      ]
    },
    {
      "cell_type": "markdown",
      "metadata": {
        "id": "mtzeqL6DpbJX"
      },
      "source": [
        "Scaling the input images"
      ]
    },
    {
      "cell_type": "code",
      "execution_count": null,
      "metadata": {
        "colab": {
          "base_uri": "https://localhost:8080/"
        },
        "id": "NRJBHW9R56E-",
        "outputId": "88ed9c0f-f856-470c-cc79-e2905caea3e8"
      },
      "outputs": [
        {
          "output_type": "stream",
          "name": "stdout",
          "text": [
            "Found 60 images belonging to 10 classes.\n",
            "Found 20 images belonging to 10 classes.\n"
          ]
        }
      ],
      "source": [
        "train_path = '/content/dataset'\n",
        "\n",
        "train_datagen = ImageDataGenerator(rescale = 1./255, validation_split=0.25)\n",
        "\n",
        "train_data = train_datagen.flow_from_directory(train_path, \n",
        "                                               target_size=(388, 374),\n",
        "                                               batch_size=4,\n",
        "                                               color_mode=\"grayscale\",\n",
        "                                               class_mode='categorical',\n",
        "                                               shuffle=True,\n",
        "                                               subset = 'training') \n",
        "\n",
        "val_data = train_datagen.flow_from_directory(train_path, \n",
        "                                           target_size=(388, 374),\n",
        "                                           batch_size=4, \n",
        "                                           color_mode=\"grayscale\",\n",
        "                                           class_mode='categorical',\n",
        "                                           shuffle=False,\n",
        "                                           subset = 'validation')"
      ]
    },
    {
      "cell_type": "markdown",
      "metadata": {
        "id": "AswP5dt7pgie"
      },
      "source": [
        "Network"
      ]
    },
    {
      "cell_type": "code",
      "execution_count": null,
      "metadata": {
        "id": "ug4iG05W2KsO"
      },
      "outputs": [],
      "source": [
        "model = Sequential()\n",
        "model.add(Conv2D(128, kernel_size=3, activation='relu', input_shape=(388, 374, 1)))\n",
        "model.add(MaxPooling2D(pool_size=(2, 2), strides=(2, 2)))\n",
        "model.add(Conv2D(128, kernel_size=3, activation='relu'))\n",
        "model.add(MaxPooling2D(pool_size=(2, 2), strides=(2, 2)))\n",
        "model.add(GlobalMaxPooling2D())\n",
        "model.add(Flatten())\n",
        "model.add(Dense(128, activation='relu'))\n",
        "model.add(Dense(10, activation='softmax'))"
      ]
    },
    {
      "cell_type": "code",
      "execution_count": null,
      "metadata": {
        "colab": {
          "base_uri": "https://localhost:8080/"
        },
        "id": "qb8J_hQc26Dx",
        "outputId": "777c70bd-383b-421b-fb96-c679c7e8f904"
      },
      "outputs": [
        {
          "name": "stdout",
          "output_type": "stream",
          "text": [
            "Model: \"sequential_38\"\n",
            "_________________________________________________________________\n",
            " Layer (type)                Output Shape              Param #   \n",
            "=================================================================\n",
            " conv2d_79 (Conv2D)          (None, 386, 372, 128)     1280      \n",
            "                                                                 \n",
            " max_pooling2d_46 (MaxPoolin  (None, 193, 186, 128)    0         \n",
            " g2D)                                                            \n",
            "                                                                 \n",
            " conv2d_80 (Conv2D)          (None, 191, 184, 128)     147584    \n",
            "                                                                 \n",
            " max_pooling2d_47 (MaxPoolin  (None, 95, 92, 128)      0         \n",
            " g2D)                                                            \n",
            "                                                                 \n",
            " global_max_pooling2d_11 (Gl  (None, 128)              0         \n",
            " obalMaxPooling2D)                                               \n",
            "                                                                 \n",
            " flatten_37 (Flatten)        (None, 128)               0         \n",
            "                                                                 \n",
            " dense_45 (Dense)            (None, 128)               16512     \n",
            "                                                                 \n",
            " dense_46 (Dense)            (None, 10)                1290      \n",
            "                                                                 \n",
            "=================================================================\n",
            "Total params: 166,666\n",
            "Trainable params: 166,666\n",
            "Non-trainable params: 0\n",
            "_________________________________________________________________\n"
          ]
        }
      ],
      "source": [
        "model.summary()"
      ]
    },
    {
      "cell_type": "code",
      "execution_count": null,
      "metadata": {
        "colab": {
          "base_uri": "https://localhost:8080/"
        },
        "id": "YcZrTYer3GF4",
        "outputId": "99d7360c-8d0d-4bbc-c26a-e5b67f6be9f7"
      },
      "outputs": [
        {
          "output_type": "stream",
          "name": "stdout",
          "text": [
            "Epoch 1/100\n",
            "15/15 [==============================] - 2s 75ms/step - loss: 0.0408 - accuracy: 1.0000 - val_loss: 1.8572 - val_accuracy: 0.6500\n",
            "Epoch 2/100\n",
            "15/15 [==============================] - 1s 57ms/step - loss: 0.1048 - accuracy: 0.9667 - val_loss: 1.5514 - val_accuracy: 0.5500\n",
            "Epoch 3/100\n",
            "15/15 [==============================] - 1s 56ms/step - loss: 0.0323 - accuracy: 1.0000 - val_loss: 1.6943 - val_accuracy: 0.6500\n",
            "Epoch 4/100\n",
            "15/15 [==============================] - 1s 56ms/step - loss: 0.0270 - accuracy: 1.0000 - val_loss: 1.7479 - val_accuracy: 0.6000\n",
            "Epoch 5/100\n",
            "15/15 [==============================] - 1s 58ms/step - loss: 0.0169 - accuracy: 1.0000 - val_loss: 1.6587 - val_accuracy: 0.7000\n",
            "Epoch 6/100\n",
            "15/15 [==============================] - 1s 56ms/step - loss: 0.0079 - accuracy: 1.0000 - val_loss: 1.5334 - val_accuracy: 0.6000\n",
            "Epoch 7/100\n",
            "15/15 [==============================] - 1s 57ms/step - loss: 0.0045 - accuracy: 1.0000 - val_loss: 1.4998 - val_accuracy: 0.6000\n",
            "Epoch 8/100\n",
            "15/15 [==============================] - 1s 60ms/step - loss: 0.0037 - accuracy: 1.0000 - val_loss: 1.4753 - val_accuracy: 0.6500\n",
            "Epoch 9/100\n",
            "15/15 [==============================] - 1s 57ms/step - loss: 0.0034 - accuracy: 1.0000 - val_loss: 1.4533 - val_accuracy: 0.6500\n",
            "Epoch 10/100\n",
            "15/15 [==============================] - 1s 58ms/step - loss: 0.0031 - accuracy: 1.0000 - val_loss: 1.4520 - val_accuracy: 0.6000\n",
            "Epoch 11/100\n",
            "15/15 [==============================] - 1s 57ms/step - loss: 0.0030 - accuracy: 1.0000 - val_loss: 1.4605 - val_accuracy: 0.6000\n",
            "Epoch 12/100\n",
            "15/15 [==============================] - 1s 56ms/step - loss: 0.0028 - accuracy: 1.0000 - val_loss: 1.4573 - val_accuracy: 0.6500\n",
            "Epoch 13/100\n",
            "15/15 [==============================] - 1s 57ms/step - loss: 0.0026 - accuracy: 1.0000 - val_loss: 1.4578 - val_accuracy: 0.6500\n",
            "Epoch 14/100\n",
            "15/15 [==============================] - 1s 58ms/step - loss: 0.0025 - accuracy: 1.0000 - val_loss: 1.4565 - val_accuracy: 0.6000\n",
            "Epoch 15/100\n",
            "15/15 [==============================] - 1s 58ms/step - loss: 0.0024 - accuracy: 1.0000 - val_loss: 1.4553 - val_accuracy: 0.6000\n",
            "Epoch 16/100\n",
            "15/15 [==============================] - 1s 57ms/step - loss: 0.0023 - accuracy: 1.0000 - val_loss: 1.4580 - val_accuracy: 0.6500\n",
            "Epoch 17/100\n",
            "15/15 [==============================] - 1s 58ms/step - loss: 0.0022 - accuracy: 1.0000 - val_loss: 1.4477 - val_accuracy: 0.6000\n",
            "Epoch 18/100\n",
            "15/15 [==============================] - 1s 57ms/step - loss: 0.0021 - accuracy: 1.0000 - val_loss: 1.4611 - val_accuracy: 0.6000\n",
            "Epoch 19/100\n",
            "15/15 [==============================] - 1s 58ms/step - loss: 0.0020 - accuracy: 1.0000 - val_loss: 1.4479 - val_accuracy: 0.6500\n",
            "Epoch 20/100\n",
            "15/15 [==============================] - 1s 56ms/step - loss: 0.0019 - accuracy: 1.0000 - val_loss: 1.4489 - val_accuracy: 0.6500\n",
            "Epoch 21/100\n",
            "15/15 [==============================] - 1s 57ms/step - loss: 0.0019 - accuracy: 1.0000 - val_loss: 1.4474 - val_accuracy: 0.6500\n",
            "Epoch 22/100\n",
            "15/15 [==============================] - 1s 56ms/step - loss: 0.0018 - accuracy: 1.0000 - val_loss: 1.4621 - val_accuracy: 0.6500\n",
            "Epoch 23/100\n",
            "15/15 [==============================] - 1s 58ms/step - loss: 0.0017 - accuracy: 1.0000 - val_loss: 1.4525 - val_accuracy: 0.6000\n",
            "Epoch 24/100\n",
            "15/15 [==============================] - 1s 56ms/step - loss: 0.0017 - accuracy: 1.0000 - val_loss: 1.4485 - val_accuracy: 0.6500\n",
            "Epoch 25/100\n",
            "15/15 [==============================] - 1s 57ms/step - loss: 0.0016 - accuracy: 1.0000 - val_loss: 1.4587 - val_accuracy: 0.6500\n",
            "Epoch 26/100\n",
            "15/15 [==============================] - 1s 57ms/step - loss: 0.0016 - accuracy: 1.0000 - val_loss: 1.4583 - val_accuracy: 0.6500\n",
            "Epoch 27/100\n",
            "15/15 [==============================] - 1s 57ms/step - loss: 0.0015 - accuracy: 1.0000 - val_loss: 1.4568 - val_accuracy: 0.6500\n",
            "Epoch 28/100\n",
            "15/15 [==============================] - 1s 57ms/step - loss: 0.0015 - accuracy: 1.0000 - val_loss: 1.4672 - val_accuracy: 0.6500\n",
            "Epoch 29/100\n",
            "15/15 [==============================] - 1s 56ms/step - loss: 0.0014 - accuracy: 1.0000 - val_loss: 1.4483 - val_accuracy: 0.6000\n",
            "Epoch 30/100\n",
            "15/15 [==============================] - 1s 57ms/step - loss: 0.0014 - accuracy: 1.0000 - val_loss: 1.4575 - val_accuracy: 0.6000\n",
            "Epoch 31/100\n",
            "15/15 [==============================] - 1s 57ms/step - loss: 0.0013 - accuracy: 1.0000 - val_loss: 1.4683 - val_accuracy: 0.6500\n",
            "Epoch 32/100\n",
            "15/15 [==============================] - 1s 57ms/step - loss: 0.0013 - accuracy: 1.0000 - val_loss: 1.4627 - val_accuracy: 0.6500\n",
            "Epoch 33/100\n",
            "15/15 [==============================] - 1s 56ms/step - loss: 0.0013 - accuracy: 1.0000 - val_loss: 1.4697 - val_accuracy: 0.6500\n",
            "Epoch 34/100\n",
            "15/15 [==============================] - 1s 57ms/step - loss: 0.0012 - accuracy: 1.0000 - val_loss: 1.4593 - val_accuracy: 0.6000\n",
            "Epoch 35/100\n",
            "15/15 [==============================] - 1s 57ms/step - loss: 0.0012 - accuracy: 1.0000 - val_loss: 1.4678 - val_accuracy: 0.6000\n",
            "Epoch 36/100\n",
            "15/15 [==============================] - 1s 57ms/step - loss: 0.0011 - accuracy: 1.0000 - val_loss: 1.4758 - val_accuracy: 0.6000\n",
            "Epoch 37/100\n",
            "15/15 [==============================] - 1s 57ms/step - loss: 0.0011 - accuracy: 1.0000 - val_loss: 1.4776 - val_accuracy: 0.6500\n",
            "Epoch 38/100\n",
            "15/15 [==============================] - 1s 58ms/step - loss: 0.0011 - accuracy: 1.0000 - val_loss: 1.4642 - val_accuracy: 0.6000\n",
            "Epoch 39/100\n",
            "15/15 [==============================] - 1s 57ms/step - loss: 0.0011 - accuracy: 1.0000 - val_loss: 1.4791 - val_accuracy: 0.6000\n",
            "Epoch 40/100\n",
            "15/15 [==============================] - 1s 57ms/step - loss: 0.0010 - accuracy: 1.0000 - val_loss: 1.4701 - val_accuracy: 0.6500\n",
            "Epoch 41/100\n",
            "15/15 [==============================] - 1s 58ms/step - loss: 9.9032e-04 - accuracy: 1.0000 - val_loss: 1.4705 - val_accuracy: 0.6500\n",
            "Epoch 42/100\n",
            "15/15 [==============================] - 1s 57ms/step - loss: 9.7980e-04 - accuracy: 1.0000 - val_loss: 1.4791 - val_accuracy: 0.6500\n",
            "Epoch 43/100\n",
            "15/15 [==============================] - 1s 57ms/step - loss: 9.5826e-04 - accuracy: 1.0000 - val_loss: 1.4815 - val_accuracy: 0.6000\n",
            "Epoch 44/100\n",
            "15/15 [==============================] - 1s 60ms/step - loss: 8.9935e-04 - accuracy: 1.0000 - val_loss: 1.4814 - val_accuracy: 0.6000\n",
            "Epoch 45/100\n",
            "15/15 [==============================] - 1s 68ms/step - loss: 8.8537e-04 - accuracy: 1.0000 - val_loss: 1.4776 - val_accuracy: 0.6000\n",
            "Epoch 46/100\n",
            "15/15 [==============================] - 1s 66ms/step - loss: 8.6334e-04 - accuracy: 1.0000 - val_loss: 1.4850 - val_accuracy: 0.6500\n",
            "Epoch 47/100\n",
            "15/15 [==============================] - 1s 62ms/step - loss: 8.3804e-04 - accuracy: 1.0000 - val_loss: 1.4919 - val_accuracy: 0.6000\n",
            "Epoch 48/100\n",
            "15/15 [==============================] - 1s 56ms/step - loss: 8.2534e-04 - accuracy: 1.0000 - val_loss: 1.4945 - val_accuracy: 0.6500\n",
            "Epoch 49/100\n",
            "15/15 [==============================] - 1s 58ms/step - loss: 8.0009e-04 - accuracy: 1.0000 - val_loss: 1.4882 - val_accuracy: 0.6000\n",
            "Epoch 50/100\n",
            "15/15 [==============================] - 1s 57ms/step - loss: 7.8889e-04 - accuracy: 1.0000 - val_loss: 1.4891 - val_accuracy: 0.6000\n",
            "Epoch 51/100\n",
            "15/15 [==============================] - 1s 57ms/step - loss: 7.6735e-04 - accuracy: 1.0000 - val_loss: 1.4953 - val_accuracy: 0.6000\n",
            "Epoch 52/100\n",
            "15/15 [==============================] - 1s 57ms/step - loss: 7.4117e-04 - accuracy: 1.0000 - val_loss: 1.4883 - val_accuracy: 0.6000\n",
            "Epoch 53/100\n",
            "15/15 [==============================] - 1s 58ms/step - loss: 7.2213e-04 - accuracy: 1.0000 - val_loss: 1.4946 - val_accuracy: 0.6000\n",
            "Epoch 54/100\n",
            "15/15 [==============================] - 1s 58ms/step - loss: 7.1390e-04 - accuracy: 1.0000 - val_loss: 1.5065 - val_accuracy: 0.6500\n",
            "Epoch 55/100\n",
            "15/15 [==============================] - 1s 58ms/step - loss: 6.8520e-04 - accuracy: 1.0000 - val_loss: 1.5033 - val_accuracy: 0.6500\n",
            "Epoch 56/100\n",
            "15/15 [==============================] - 1s 57ms/step - loss: 6.7039e-04 - accuracy: 1.0000 - val_loss: 1.5061 - val_accuracy: 0.6000\n",
            "Epoch 57/100\n",
            "15/15 [==============================] - 1s 58ms/step - loss: 6.5704e-04 - accuracy: 1.0000 - val_loss: 1.5025 - val_accuracy: 0.6000\n",
            "Epoch 58/100\n",
            "15/15 [==============================] - 1s 58ms/step - loss: 6.4837e-04 - accuracy: 1.0000 - val_loss: 1.4996 - val_accuracy: 0.6000\n",
            "Epoch 59/100\n",
            "15/15 [==============================] - 1s 58ms/step - loss: 6.3780e-04 - accuracy: 1.0000 - val_loss: 1.5069 - val_accuracy: 0.6000\n",
            "Epoch 60/100\n",
            "15/15 [==============================] - 1s 57ms/step - loss: 6.2261e-04 - accuracy: 1.0000 - val_loss: 1.5151 - val_accuracy: 0.6500\n",
            "Epoch 61/100\n",
            "15/15 [==============================] - 1s 58ms/step - loss: 5.9404e-04 - accuracy: 1.0000 - val_loss: 1.5116 - val_accuracy: 0.6000\n",
            "Epoch 62/100\n",
            "15/15 [==============================] - 1s 58ms/step - loss: 5.8751e-04 - accuracy: 1.0000 - val_loss: 1.5140 - val_accuracy: 0.6000\n",
            "Epoch 63/100\n",
            "15/15 [==============================] - 1s 58ms/step - loss: 5.7176e-04 - accuracy: 1.0000 - val_loss: 1.5175 - val_accuracy: 0.6000\n",
            "Epoch 64/100\n",
            "15/15 [==============================] - 1s 58ms/step - loss: 5.6519e-04 - accuracy: 1.0000 - val_loss: 1.5153 - val_accuracy: 0.6500\n",
            "Epoch 65/100\n",
            "15/15 [==============================] - 1s 57ms/step - loss: 5.5083e-04 - accuracy: 1.0000 - val_loss: 1.5304 - val_accuracy: 0.6500\n",
            "Epoch 66/100\n",
            "15/15 [==============================] - 1s 57ms/step - loss: 5.3771e-04 - accuracy: 1.0000 - val_loss: 1.5271 - val_accuracy: 0.6000\n",
            "Epoch 67/100\n",
            "15/15 [==============================] - 1s 58ms/step - loss: 5.2011e-04 - accuracy: 1.0000 - val_loss: 1.5209 - val_accuracy: 0.6000\n",
            "Epoch 68/100\n",
            "15/15 [==============================] - 1s 58ms/step - loss: 5.1645e-04 - accuracy: 1.0000 - val_loss: 1.5173 - val_accuracy: 0.6000\n",
            "Epoch 69/100\n",
            "15/15 [==============================] - 1s 58ms/step - loss: 5.0318e-04 - accuracy: 1.0000 - val_loss: 1.5240 - val_accuracy: 0.6500\n",
            "Epoch 70/100\n",
            "15/15 [==============================] - 1s 58ms/step - loss: 4.8813e-04 - accuracy: 1.0000 - val_loss: 1.5366 - val_accuracy: 0.6000\n",
            "Epoch 71/100\n",
            "15/15 [==============================] - 1s 59ms/step - loss: 4.8360e-04 - accuracy: 1.0000 - val_loss: 1.5357 - val_accuracy: 0.6500\n",
            "Epoch 72/100\n",
            "15/15 [==============================] - 1s 57ms/step - loss: 4.7781e-04 - accuracy: 1.0000 - val_loss: 1.5330 - val_accuracy: 0.6000\n",
            "Epoch 73/100\n",
            "15/15 [==============================] - 1s 58ms/step - loss: 4.5625e-04 - accuracy: 1.0000 - val_loss: 1.5338 - val_accuracy: 0.6500\n",
            "Epoch 74/100\n",
            "15/15 [==============================] - 1s 59ms/step - loss: 4.5507e-04 - accuracy: 1.0000 - val_loss: 1.5408 - val_accuracy: 0.6500\n",
            "Epoch 75/100\n",
            "15/15 [==============================] - 1s 57ms/step - loss: 4.3885e-04 - accuracy: 1.0000 - val_loss: 1.5433 - val_accuracy: 0.6500\n",
            "Epoch 76/100\n",
            "15/15 [==============================] - 1s 57ms/step - loss: 4.3237e-04 - accuracy: 1.0000 - val_loss: 1.5434 - val_accuracy: 0.6000\n",
            "Epoch 77/100\n",
            "15/15 [==============================] - 1s 58ms/step - loss: 4.3410e-04 - accuracy: 1.0000 - val_loss: 1.5467 - val_accuracy: 0.6500\n",
            "Epoch 78/100\n",
            "15/15 [==============================] - 1s 58ms/step - loss: 4.1098e-04 - accuracy: 1.0000 - val_loss: 1.5411 - val_accuracy: 0.6000\n",
            "Epoch 79/100\n",
            "15/15 [==============================] - 1s 58ms/step - loss: 4.0517e-04 - accuracy: 1.0000 - val_loss: 1.5444 - val_accuracy: 0.6000\n",
            "Epoch 80/100\n",
            "15/15 [==============================] - 1s 58ms/step - loss: 4.0079e-04 - accuracy: 1.0000 - val_loss: 1.5444 - val_accuracy: 0.6000\n",
            "Epoch 81/100\n",
            "15/15 [==============================] - 1s 58ms/step - loss: 3.8913e-04 - accuracy: 1.0000 - val_loss: 1.5498 - val_accuracy: 0.6000\n",
            "Epoch 82/100\n",
            "15/15 [==============================] - 1s 58ms/step - loss: 3.8113e-04 - accuracy: 1.0000 - val_loss: 1.5565 - val_accuracy: 0.6000\n",
            "Epoch 83/100\n",
            "15/15 [==============================] - 1s 58ms/step - loss: 3.7910e-04 - accuracy: 1.0000 - val_loss: 1.5564 - val_accuracy: 0.6500\n",
            "Epoch 84/100\n",
            "15/15 [==============================] - 1s 57ms/step - loss: 3.7054e-04 - accuracy: 1.0000 - val_loss: 1.5571 - val_accuracy: 0.6000\n",
            "Epoch 85/100\n",
            "15/15 [==============================] - 1s 58ms/step - loss: 3.6052e-04 - accuracy: 1.0000 - val_loss: 1.5609 - val_accuracy: 0.6000\n",
            "Epoch 86/100\n",
            "15/15 [==============================] - 1s 58ms/step - loss: 3.6037e-04 - accuracy: 1.0000 - val_loss: 1.5650 - val_accuracy: 0.6500\n",
            "Epoch 87/100\n",
            "15/15 [==============================] - 1s 58ms/step - loss: 3.4910e-04 - accuracy: 1.0000 - val_loss: 1.5693 - val_accuracy: 0.6500\n",
            "Epoch 88/100\n",
            "15/15 [==============================] - 1s 58ms/step - loss: 3.4628e-04 - accuracy: 1.0000 - val_loss: 1.5667 - val_accuracy: 0.6000\n",
            "Epoch 89/100\n",
            "15/15 [==============================] - 1s 58ms/step - loss: 3.4006e-04 - accuracy: 1.0000 - val_loss: 1.5606 - val_accuracy: 0.6000\n",
            "Epoch 90/100\n",
            "15/15 [==============================] - 1s 57ms/step - loss: 3.2857e-04 - accuracy: 1.0000 - val_loss: 1.5655 - val_accuracy: 0.6500\n",
            "Epoch 91/100\n",
            "15/15 [==============================] - 1s 58ms/step - loss: 3.2227e-04 - accuracy: 1.0000 - val_loss: 1.5701 - val_accuracy: 0.6000\n",
            "Epoch 92/100\n",
            "15/15 [==============================] - 1s 59ms/step - loss: 3.1584e-04 - accuracy: 1.0000 - val_loss: 1.5664 - val_accuracy: 0.6000\n",
            "Epoch 93/100\n",
            "15/15 [==============================] - 1s 58ms/step - loss: 3.1116e-04 - accuracy: 1.0000 - val_loss: 1.5723 - val_accuracy: 0.6500\n",
            "Epoch 94/100\n",
            "15/15 [==============================] - 1s 58ms/step - loss: 3.0925e-04 - accuracy: 1.0000 - val_loss: 1.5771 - val_accuracy: 0.6000\n",
            "Epoch 95/100\n",
            "15/15 [==============================] - 1s 59ms/step - loss: 2.9949e-04 - accuracy: 1.0000 - val_loss: 1.5764 - val_accuracy: 0.6500\n",
            "Epoch 96/100\n",
            "15/15 [==============================] - 1s 57ms/step - loss: 2.9985e-04 - accuracy: 1.0000 - val_loss: 1.5765 - val_accuracy: 0.6000\n",
            "Epoch 97/100\n",
            "15/15 [==============================] - 1s 58ms/step - loss: 2.8647e-04 - accuracy: 1.0000 - val_loss: 1.5800 - val_accuracy: 0.6500\n",
            "Epoch 98/100\n",
            "15/15 [==============================] - 1s 59ms/step - loss: 2.8503e-04 - accuracy: 1.0000 - val_loss: 1.5745 - val_accuracy: 0.6000\n",
            "Epoch 99/100\n",
            "15/15 [==============================] - 1s 57ms/step - loss: 2.7641e-04 - accuracy: 1.0000 - val_loss: 1.5799 - val_accuracy: 0.6000\n",
            "Epoch 100/100\n",
            "15/15 [==============================] - 1s 59ms/step - loss: 2.7319e-04 - accuracy: 1.0000 - val_loss: 1.5873 - val_accuracy: 0.6000\n"
          ]
        },
        {
          "output_type": "execute_result",
          "data": {
            "text/plain": [
              "<keras.callbacks.History at 0x7fbc4f5f1ed0>"
            ]
          },
          "metadata": {},
          "execution_count": 8
        }
      ],
      "source": [
        "model.compile(optimizer='adam', loss='categorical_crossentropy', metrics=['accuracy'])\n",
        "model.fit(x=train_data, validation_data=val_data, epochs=100,  verbose=1)"
      ]
    },
    {
      "cell_type": "markdown",
      "metadata": {
        "id": "eCHG1t8ip03S"
      },
      "source": [
        "Scaling a random image"
      ]
    },
    {
      "cell_type": "code",
      "execution_count": null,
      "metadata": {
        "id": "wS2BpRKj6_3n"
      },
      "outputs": [],
      "source": [
        "img = Image.open(\"/content/dataset/c3/103_7.tif\")\n",
        "x = np.asarray(img)\n",
        "x = 2*x/255 - 1\n",
        "x = np.transpose(x)\n",
        "x = np.expand_dims(x,axis = 0)\n",
        "images = np.vstack([x])"
      ]
    },
    {
      "cell_type": "code",
      "source": [
        "print(val_data.class_indices)\n",
        "dictionary = dict((v,k) for k,v in val_data.class_indices.items())\n",
        "print(dictionary, \"\\n\")"
      ],
      "metadata": {
        "colab": {
          "base_uri": "https://localhost:8080/"
        },
        "id": "PGSMF6VFNAuW",
        "outputId": "ebfc71cb-66e7-4f6d-cbc6-0a4db88e90d4"
      },
      "execution_count": null,
      "outputs": [
        {
          "output_type": "stream",
          "name": "stdout",
          "text": [
            "{'c1': 0, 'c10': 1, 'c2': 2, 'c3': 3, 'c4': 4, 'c5': 5, 'c6': 6, 'c7': 7, 'c8': 8, 'c9': 9}\n",
            "{0: 'c1', 1: 'c10', 2: 'c2', 3: 'c3', 4: 'c4', 5: 'c5', 6: 'c6', 7: 'c7', 8: 'c8', 9: 'c9'} \n",
            "\n"
          ]
        }
      ]
    },
    {
      "cell_type": "code",
      "execution_count": null,
      "metadata": {
        "id": "s6UzFEgTFZOK"
      },
      "outputs": [],
      "source": [
        "im = cv2.imread('/content/dataset/c3/103_7.tif')\n",
        "plt.imshow(im)\n",
        "plt.show()\n",
        "classes = model.predict(images)\n",
        "max_index = np.argmax(classes[0])\n",
        "print('\\n', dictionary[max_index], \"with confidence:\", classes[0][max_index])"
      ]
    },
    {
      "cell_type": "code",
      "execution_count": null,
      "metadata": {
        "id": "PYpWp6VRQ14q"
      },
      "outputs": [],
      "source": []
    }
  ],
  "metadata": {
    "accelerator": "GPU",
    "colab": {
      "provenance": [],
      "include_colab_link": true
    },
    "kernelspec": {
      "display_name": "Python 3",
      "name": "python3"
    },
    "language_info": {
      "name": "python"
    }
  },
  "nbformat": 4,
  "nbformat_minor": 0
}